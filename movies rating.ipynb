{
 "cells": [
  {
   "cell_type": "code",
   "execution_count": 117,
   "id": "74ef82b9",
   "metadata": {},
   "outputs": [],
   "source": [
    "import numpy as np\n",
    "import pandas as pd\n",
    "import matplotlib.pyplot as plt"
   ]
  },
  {
   "cell_type": "code",
   "execution_count": 118,
   "id": "e0055347",
   "metadata": {
    "scrolled": false
   },
   "outputs": [],
   "source": [
    "df=pd.read_csv(r\"C:\\Users\\shrouk\\Desktop\\movies_rating.csv\")"
   ]
  },
  {
   "cell_type": "code",
   "execution_count": 119,
   "id": "380e0304",
   "metadata": {
    "scrolled": true
   },
   "outputs": [
    {
     "name": "stdout",
     "output_type": "stream",
     "text": [
      "<class 'pandas.core.frame.DataFrame'>\n",
      "RangeIndex: 15509 entries, 0 to 15508\n",
      "Data columns (total 10 columns):\n",
      " #   Column    Non-Null Count  Dtype  \n",
      "---  ------    --------------  -----  \n",
      " 0   Name      15509 non-null  object \n",
      " 1   Year      14981 non-null  float64\n",
      " 2   Duration  7240 non-null   object \n",
      " 3   Genre     13632 non-null  object \n",
      " 4   Rating    7919 non-null   float64\n",
      " 5   Votes     7920 non-null   object \n",
      " 6   Director  14984 non-null  object \n",
      " 7   Actor 1   13892 non-null  object \n",
      " 8   Actor 2   13125 non-null  object \n",
      " 9   Actor 3   12365 non-null  object \n",
      "dtypes: float64(2), object(8)\n",
      "memory usage: 1.2+ MB\n"
     ]
    }
   ],
   "source": [
    "df.info()"
   ]
  },
  {
   "cell_type": "code",
   "execution_count": 120,
   "id": "d8ce5f0a",
   "metadata": {},
   "outputs": [
    {
     "name": "stdout",
     "output_type": "stream",
     "text": [
      "                                 Name    Year Duration  \\\n",
      "0                                         NaN      NaN   \n",
      "1  #Gadhvi (He thought he was Gandhi) -2019.0  109 min   \n",
      "2                         #Homecoming -2021.0   90 min   \n",
      "3                             #Yaaram -2019.0  110 min   \n",
      "4                   ...And Once Again -2010.0  105 min   \n",
      "5                ...Aur Pyaar Ho Gaya -1997.0  147 min   \n",
      "6                           ...Yahaan -2005.0  142 min   \n",
      "7                      .in for Motion -2008.0   59 min   \n",
      "8                  ?: A Question Mark -2012.0   82 min   \n",
      "9                            @Andheri -2014.0  116 min   \n",
      "\n",
      "                       Genre  Rating  Votes            Director  \\\n",
      "0                      Drama     NaN    NaN       J.S. Randhawa   \n",
      "1                      Drama     7.0      8       Gaurav Bakshi   \n",
      "2             Drama, Musical     NaN    NaN  Soumyajit Majumdar   \n",
      "3            Comedy, Romance     4.4     35          Ovais Khan   \n",
      "4                      Drama     NaN    NaN        Amol Palekar   \n",
      "5     Comedy, Drama, Musical     4.7    827        Rahul Rawail   \n",
      "6        Drama, Romance, War     7.4  1,086      Shoojit Sircar   \n",
      "7                Documentary     NaN    NaN       Anirban Datta   \n",
      "8  Horror, Mystery, Thriller     5.6    326       Allyson Patel   \n",
      "9    Action, Crime, Thriller     4.0     11   Biju Bhaskar Nair   \n",
      "\n",
      "           Actor 1                 Actor 2          Actor 3  \n",
      "0         Manmauji                  Birbal  Rajendra Bhatia  \n",
      "1     Rasika Dugal          Vivek Ghamande    Arvind Jangid  \n",
      "2     Sayani Gupta       Plabita Borthakur       Roy Angana  \n",
      "3          Prateik              Ishita Raj  Siddhant Kapoor  \n",
      "4     Rajat Kapoor      Rituparna Sengupta      Antara Mali  \n",
      "5       Bobby Deol  Aishwarya Rai Bachchan    Shammi Kapoor  \n",
      "6  Jimmy Sheirgill          Minissha Lamba   Yashpal Sharma  \n",
      "7              NaN                     NaN              NaN  \n",
      "8        Yash Dave          Muntazir Ahmad     Kiran Bhatia  \n",
      "9        Augustine            Fathima Babu             Byon  \n"
     ]
    }
   ],
   "source": [
    "print(df.head(10))"
   ]
  },
  {
   "cell_type": "code",
   "execution_count": 121,
   "id": "579cc805",
   "metadata": {
    "scrolled": false
   },
   "outputs": [
    {
     "data": {
      "text/plain": [
       "Name           0\n",
       "Year           0\n",
       "Duration    2068\n",
       "Genre        102\n",
       "Rating         0\n",
       "Votes          0\n",
       "Director       5\n",
       "Actor 1      125\n",
       "Actor 2      200\n",
       "Actor 3      292\n",
       "dtype: int64"
      ]
     },
     "execution_count": 121,
     "metadata": {},
     "output_type": "execute_result"
    }
   ],
   "source": [
    "#remove rows contains null in rating column\n",
    "df['Rating']=df['Rating'].fillna(0)\n",
    "df=df[df['Rating'] != 0.0]\n",
    "df.isna().sum()"
   ]
  },
  {
   "cell_type": "code",
   "execution_count": 122,
   "id": "6a6ad11d",
   "metadata": {
    "scrolled": false
   },
   "outputs": [
    {
     "name": "stdout",
     "output_type": "stream",
     "text": [
      "<class 'pandas.core.frame.DataFrame'>\n",
      "Int64Index: 7919 entries, 1 to 15508\n",
      "Data columns (total 10 columns):\n",
      " #   Column    Non-Null Count  Dtype  \n",
      "---  ------    --------------  -----  \n",
      " 0   Name      7919 non-null   object \n",
      " 1   Year      7919 non-null   float64\n",
      " 2   Duration  5851 non-null   object \n",
      " 3   Genre     7817 non-null   object \n",
      " 4   Rating    7919 non-null   float64\n",
      " 5   Votes     7919 non-null   object \n",
      " 6   Director  7914 non-null   object \n",
      " 7   Actor 1   7794 non-null   object \n",
      " 8   Actor 2   7719 non-null   object \n",
      " 9   Actor 3   7627 non-null   object \n",
      "dtypes: float64(2), object(8)\n",
      "memory usage: 680.5+ KB\n"
     ]
    }
   ],
   "source": [
    "df.info()"
   ]
  },
  {
   "cell_type": "code",
   "execution_count": 123,
   "id": "370469d5",
   "metadata": {},
   "outputs": [
    {
     "data": {
      "text/plain": [
       "Name          0\n",
       "Year          0\n",
       "Duration      0\n",
       "Genre       102\n",
       "Rating        0\n",
       "Votes         0\n",
       "Director      5\n",
       "Actor 1     125\n",
       "Actor 2     200\n",
       "Actor 3     292\n",
       "dtype: int64"
      ]
     },
     "execution_count": 123,
     "metadata": {},
     "output_type": "execute_result"
    }
   ],
   "source": [
    "#fill nulls in Duration by mean\n",
    "df['Duration'] = df['Duration'].str.replace(' min', '')\n",
    "#print(df['Duration'])\n",
    "\n",
    "x=df['Duration'].fillna(0).astype(int).mean()\n",
    "#print(x)\n",
    "df['Duration'].fillna(x, inplace =True)\n",
    "df.isnull().sum()"
   ]
  },
  {
   "cell_type": "code",
   "execution_count": 124,
   "id": "e9d111fe",
   "metadata": {},
   "outputs": [
    {
     "data": {
      "text/plain": [
       "Name        0\n",
       "Year        0\n",
       "Duration    0\n",
       "Genre       0\n",
       "Rating      0\n",
       "Votes       0\n",
       "Director    0\n",
       "Actor 1     0\n",
       "Actor 2     0\n",
       "Actor 3     0\n",
       "dtype: int64"
      ]
     },
     "execution_count": 124,
     "metadata": {},
     "output_type": "execute_result"
    }
   ],
   "source": [
    "df=df.dropna()\n",
    "df.isnull().sum()"
   ]
  },
  {
   "cell_type": "code",
   "execution_count": 125,
   "id": "98328f57",
   "metadata": {},
   "outputs": [
    {
     "name": "stdout",
     "output_type": "stream",
     "text": [
      "<class 'pandas.core.series.Series'>\n"
     ]
    }
   ],
   "source": [
    "#convert Duration type to int\n",
    "print(type(df['Duration']))\n",
    "df['Duration']=df['Duration'].astype(int)"
   ]
  },
  {
   "cell_type": "code",
   "execution_count": 126,
   "id": "b16dc751",
   "metadata": {
    "scrolled": false
   },
   "outputs": [
    {
     "name": "stdout",
     "output_type": "stream",
     "text": [
      "<class 'pandas.core.frame.DataFrame'>\n",
      "Int64Index: 7558 entries, 1 to 15508\n",
      "Data columns (total 10 columns):\n",
      " #   Column    Non-Null Count  Dtype  \n",
      "---  ------    --------------  -----  \n",
      " 0   Name      7558 non-null   object \n",
      " 1   Year      7558 non-null   float64\n",
      " 2   Duration  7558 non-null   int32  \n",
      " 3   Genre     7558 non-null   object \n",
      " 4   Rating    7558 non-null   float64\n",
      " 5   Votes     7558 non-null   object \n",
      " 6   Director  7558 non-null   object \n",
      " 7   Actor 1   7558 non-null   object \n",
      " 8   Actor 2   7558 non-null   object \n",
      " 9   Actor 3   7558 non-null   object \n",
      "dtypes: float64(2), int32(1), object(7)\n",
      "memory usage: 620.0+ KB\n"
     ]
    }
   ],
   "source": [
    "df.info()"
   ]
  },
  {
   "cell_type": "code",
   "execution_count": 127,
   "id": "24636737",
   "metadata": {},
   "outputs": [
    {
     "name": "stdout",
     "output_type": "stream",
     "text": [
      "Q1 (25%) = 4.0     Q3 (75%) = 6.0     IQR = 2.0     lower = 1.0     upper = 9.0\n",
      "Number Of Outlier Element :  1 elements\n",
      "Number Of Non Outlier Element :  7557 elements\n",
      "Outliers is : [10]\n"
     ]
    },
    {
     "data": {
      "image/png": "[encoded data removed]",
      "text/plain": [
       "<Figure size 640x480 with 1 Axes>"
      ]
     },
     "metadata": {},
     "output_type": "display_data"
    }
   ],
   "source": [
    "#check outlier at Rating\n",
    "df['Rating'] = df['Rating'].astype(int)\n",
    "q1 = df['Rating'].quantile(0.25)\n",
    "q3 = df['Rating'].quantile(0.75)\n",
    "iqr = q3 - q1\n",
    "lower = (q1 - 1.5 * iqr)\n",
    "upper = (q3 + 1.5 * iqr)\n",
    "print(\"Q1 (25%) =\" ,q1 ,\"   \",\"Q3 (75%) =\" ,q3,\"   \",\"IQR =\" , iqr,\"   \",\"lower =\" ,lower ,\"   \",\"upper =\" ,upper)\n",
    "outlier_array = []\n",
    "number_of_outlier_element = 0\n",
    "for item in df['Rating']:\n",
    "    if(item < lower):\n",
    "        outlier_array.append(item)\n",
    "        number_of_outlier_element = number_of_outlier_element + 1\n",
    "    elif(item > upper):\n",
    "        outlier_array.append(item)\n",
    "        number_of_outlier_element = number_of_outlier_element + 1\n",
    "outlier_array.sort()\n",
    "print(\"Number Of Outlier Element : \",number_of_outlier_element,\"elements\")\n",
    "print(\"Number Of Non Outlier Element : \",(df['Rating'].count()-number_of_outlier_element),\"elements\")\n",
    "print(f\"Outliers is : {outlier_array}\")\n",
    "\n",
    "plt.boxplot(df['Rating'])\n",
    "# show plot\n",
    "plt.show()\n"
   ]
  },
  {
   "cell_type": "code",
   "execution_count": 128,
   "id": "e4de236e",
   "metadata": {
    "scrolled": false
   },
   "outputs": [
    {
     "name": "stdout",
     "output_type": "stream",
     "text": [
      "                                  Name    Year  Duration  Genre  Rating  \\\n",
      "1   #Gadhvi (He thought he was Gandhi) -2019.0       109      0       7   \n",
      "3                              #Yaaram -2019.0       110      1       4   \n",
      "5                 ...Aur Pyaar Ho Gaya -1997.0       147      2       4   \n",
      "6                            ...Yahaan -2005.0       142      3       7   \n",
      "8                   ?: A Question Mark -2012.0        82      4       5   \n",
      "9                             @Andheri -2014.0       116      5       4   \n",
      "10           1:1.6 An Ode to Lost Love -2004.0        96      0       6   \n",
      "11                1:13:7 Ek Tera Saath -2016.0       120      6       5   \n",
      "12                            100 Days -1991.0       161      7       6   \n",
      "13                           100% Love -2012.0       166      8       5   \n",
      "\n",
      "    Votes  Director  Actor 1  Actor 2  Actor 3  \n",
      "1       8         0        0        0        0  \n",
      "3      35         1        1        1        1  \n",
      "5     827         2        2        2        2  \n",
      "6   1,086         3        3        3        3  \n",
      "8     326         4        4        4        4  \n",
      "9      11         5        5        5        5  \n",
      "10     17         6        6        6        6  \n",
      "11     59         7        7        7        7  \n",
      "12    983         8        8        8        8  \n",
      "13    512         9        9        9        9  \n"
     ]
    }
   ],
   "source": [
    "#convert categorical data to numeric\n",
    "df['Actor 1']=pd.factorize(df['Actor 1'])[0]\n",
    "df['Actor 2']=pd.factorize(df['Actor 2'])[0]\n",
    "df['Actor 3']=pd.factorize(df['Actor 3'])[0]\n",
    "df['Director']=pd.factorize(df['Director'])[0]\n",
    "df['Genre']=pd.factorize(df['Genre'])[0]\n",
    "print(df.head(10))\n"
   ]
  },
  {
   "cell_type": "code",
   "execution_count": 129,
   "id": "7504cda7",
   "metadata": {},
   "outputs": [],
   "source": [
    "df['Year'] = df['Year'].abs()\n",
    "df['Year']=df['Year'].astype(int)\n",
    "#df['Year']"
   ]
  },
  {
   "cell_type": "code",
   "execution_count": 130,
   "id": "ef94bb06",
   "metadata": {},
   "outputs": [
    {
     "data": {
      "text/html": [
       "<div>\n",
       "<style scoped>\n",
       "    .dataframe tbody tr th:only-of-type {\n",
       "        vertical-align: middle;\n",
       "    }\n",
       "\n",
       "    .dataframe tbody tr th {\n",
       "        vertical-align: top;\n",
       "    }\n",
       "\n",
       "    .dataframe thead th {\n",
       "        text-align: right;\n",
       "    }\n",
       "</style>\n",
       "<table border=\"1\" class=\"dataframe\">\n",
       "  <thead>\n",
       "    <tr style=\"text-align: right;\">\n",
       "      <th></th>\n",
       "      <th>Year</th>\n",
       "      <th>Duration</th>\n",
       "      <th>Genre</th>\n",
       "      <th>Rating</th>\n",
       "      <th>Director</th>\n",
       "      <th>Actor 1</th>\n",
       "      <th>Actor 2</th>\n",
       "      <th>Actor 3</th>\n",
       "    </tr>\n",
       "  </thead>\n",
       "  <tbody>\n",
       "    <tr>\n",
       "      <th>count</th>\n",
       "      <td>7558.000000</td>\n",
       "      <td>7558.000000</td>\n",
       "      <td>7558.000000</td>\n",
       "      <td>7558.000000</td>\n",
       "      <td>7558.000000</td>\n",
       "      <td>7558.000000</td>\n",
       "      <td>7558.000000</td>\n",
       "      <td>7558.000000</td>\n",
       "    </tr>\n",
       "    <tr>\n",
       "      <th>mean</th>\n",
       "      <td>1993.421011</td>\n",
       "      <td>124.283541</td>\n",
       "      <td>57.500000</td>\n",
       "      <td>5.363456</td>\n",
       "      <td>954.502779</td>\n",
       "      <td>609.487563</td>\n",
       "      <td>814.388198</td>\n",
       "      <td>940.844800</td>\n",
       "    </tr>\n",
       "    <tr>\n",
       "      <th>std</th>\n",
       "      <td>20.004711</td>\n",
       "      <td>27.015312</td>\n",
       "      <td>71.275505</td>\n",
       "      <td>1.404853</td>\n",
       "      <td>805.547319</td>\n",
       "      <td>641.638807</td>\n",
       "      <td>757.237235</td>\n",
       "      <td>831.358653</td>\n",
       "    </tr>\n",
       "    <tr>\n",
       "      <th>min</th>\n",
       "      <td>1917.000000</td>\n",
       "      <td>21.000000</td>\n",
       "      <td>0.000000</td>\n",
       "      <td>1.000000</td>\n",
       "      <td>0.000000</td>\n",
       "      <td>0.000000</td>\n",
       "      <td>0.000000</td>\n",
       "      <td>0.000000</td>\n",
       "    </tr>\n",
       "    <tr>\n",
       "      <th>25%</th>\n",
       "      <td>1980.000000</td>\n",
       "      <td>97.000000</td>\n",
       "      <td>9.000000</td>\n",
       "      <td>4.000000</td>\n",
       "      <td>266.000000</td>\n",
       "      <td>130.000000</td>\n",
       "      <td>202.000000</td>\n",
       "      <td>238.000000</td>\n",
       "    </tr>\n",
       "    <tr>\n",
       "      <th>50%</th>\n",
       "      <td>1996.000000</td>\n",
       "      <td>125.000000</td>\n",
       "      <td>35.000000</td>\n",
       "      <td>6.000000</td>\n",
       "      <td>682.500000</td>\n",
       "      <td>324.000000</td>\n",
       "      <td>517.000000</td>\n",
       "      <td>658.000000</td>\n",
       "    </tr>\n",
       "    <tr>\n",
       "      <th>75%</th>\n",
       "      <td>2011.000000</td>\n",
       "      <td>144.000000</td>\n",
       "      <td>65.000000</td>\n",
       "      <td>6.000000</td>\n",
       "      <td>1493.750000</td>\n",
       "      <td>927.000000</td>\n",
       "      <td>1277.750000</td>\n",
       "      <td>1478.750000</td>\n",
       "    </tr>\n",
       "    <tr>\n",
       "      <th>max</th>\n",
       "      <td>2021.000000</td>\n",
       "      <td>321.000000</td>\n",
       "      <td>415.000000</td>\n",
       "      <td>10.000000</td>\n",
       "      <td>2955.000000</td>\n",
       "      <td>2414.000000</td>\n",
       "      <td>2782.000000</td>\n",
       "      <td>3030.000000</td>\n",
       "    </tr>\n",
       "  </tbody>\n",
       "</table>\n",
       "</div>"
      ],
      "text/plain": [
       "              Year     Duration        Genre       Rating     Director  \\\n",
       "count  7558.000000  7558.000000  7558.000000  7558.000000  7558.000000   \n",
       "mean   1993.421011   124.283541    57.500000     5.363456   954.502779   \n",
       "std      20.004711    27.015312    71.275505     1.404853   805.547319   \n",
       "min    1917.000000    21.000000     0.000000     1.000000     0.000000   \n",
       "25%    1980.000000    97.000000     9.000000     4.000000   266.000000   \n",
       "50%    1996.000000   125.000000    35.000000     6.000000   682.500000   \n",
       "75%    2011.000000   144.000000    65.000000     6.000000  1493.750000   \n",
       "max    2021.000000   321.000000   415.000000    10.000000  2955.000000   \n",
       "\n",
       "           Actor 1      Actor 2      Actor 3  \n",
       "count  7558.000000  7558.000000  7558.000000  \n",
       "mean    609.487563   814.388198   940.844800  \n",
       "std     641.638807   757.237235   831.358653  \n",
       "min       0.000000     0.000000     0.000000  \n",
       "25%     130.000000   202.000000   238.000000  \n",
       "50%     324.000000   517.000000   658.000000  \n",
       "75%     927.000000  1277.750000  1478.750000  \n",
       "max    2414.000000  2782.000000  3030.000000  "
      ]
     },
     "execution_count": 130,
     "metadata": {},
     "output_type": "execute_result"
    }
   ],
   "source": [
    "df.describe()"
   ]
  },
  {
   "cell_type": "code",
   "execution_count": 131,
   "id": "70621da5",
   "metadata": {},
   "outputs": [
    {
     "data": {
      "image/png": "[encoded data removed]",
      "text/plain": [
       "<Figure size 640x480 with 1 Axes>"
      ]
     },
     "metadata": {},
     "output_type": "display_data"
    }
   ],
   "source": [
    "plt.scatter(x='Rating',y='Year' , data=df)\n",
    "plt.title('Year vs Rating')\n",
    "plt.ylabel('Years')\n",
    "plt.xlabel('Rating')\n",
    "plt.show()"
   ]
  },
  {
   "cell_type": "code",
   "execution_count": 132,
   "id": "2b16279f",
   "metadata": {},
   "outputs": [
    {
     "name": "stdout",
     "output_type": "stream",
     "text": [
      "<class 'pandas.core.frame.DataFrame'>\n",
      "Int64Index: 1602 entries, 1 to 15476\n",
      "Data columns (total 10 columns):\n",
      " #   Column    Non-Null Count  Dtype \n",
      "---  ------    --------------  ----- \n",
      " 0   Name      1602 non-null   object\n",
      " 1   Year      1602 non-null   int32 \n",
      " 2   Duration  1602 non-null   int32 \n",
      " 3   Genre     1602 non-null   int64 \n",
      " 4   Rating    1602 non-null   int32 \n",
      " 5   Votes     1602 non-null   object\n",
      " 6   Director  1602 non-null   int64 \n",
      " 7   Actor 1   1602 non-null   int64 \n",
      " 8   Actor 2   1602 non-null   int64 \n",
      " 9   Actor 3   1602 non-null   int64 \n",
      "dtypes: int32(3), int64(5), object(2)\n",
      "memory usage: 118.9+ KB\n"
     ]
    }
   ],
   "source": [
    "high_rating =df[df['Rating'] > 6.0]\n",
    "high_rating.info()"
   ]
  },
  {
   "cell_type": "code",
   "execution_count": 133,
   "id": "06dd22ac",
   "metadata": {},
   "outputs": [
    {
     "data": {
      "text/html": [
       "<div>\n",
       "<style scoped>\n",
       "    .dataframe tbody tr th:only-of-type {\n",
       "        vertical-align: middle;\n",
       "    }\n",
       "\n",
       "    .dataframe tbody tr th {\n",
       "        vertical-align: top;\n",
       "    }\n",
       "\n",
       "    .dataframe thead th {\n",
       "        text-align: right;\n",
       "    }\n",
       "</style>\n",
       "<table border=\"1\" class=\"dataframe\">\n",
       "  <thead>\n",
       "    <tr style=\"text-align: right;\">\n",
       "      <th></th>\n",
       "      <th>Year</th>\n",
       "      <th>Duration</th>\n",
       "      <th>Genre</th>\n",
       "      <th>Rating</th>\n",
       "      <th>Director</th>\n",
       "      <th>Actor 1</th>\n",
       "      <th>Actor 2</th>\n",
       "      <th>Actor 3</th>\n",
       "    </tr>\n",
       "  </thead>\n",
       "  <tbody>\n",
       "    <tr>\n",
       "      <th>count</th>\n",
       "      <td>1602.000000</td>\n",
       "      <td>1602.000000</td>\n",
       "      <td>1602.000000</td>\n",
       "      <td>1602.000000</td>\n",
       "      <td>1602.000000</td>\n",
       "      <td>1602.000000</td>\n",
       "      <td>1602.000000</td>\n",
       "      <td>1602.000000</td>\n",
       "    </tr>\n",
       "    <tr>\n",
       "      <th>mean</th>\n",
       "      <td>1991.286517</td>\n",
       "      <td>127.449438</td>\n",
       "      <td>60.493758</td>\n",
       "      <td>7.207865</td>\n",
       "      <td>972.644195</td>\n",
       "      <td>665.760924</td>\n",
       "      <td>873.154182</td>\n",
       "      <td>1066.728464</td>\n",
       "    </tr>\n",
       "    <tr>\n",
       "      <th>std</th>\n",
       "      <td>23.533987</td>\n",
       "      <td>29.252529</td>\n",
       "      <td>81.458712</td>\n",
       "      <td>0.451094</td>\n",
       "      <td>815.510621</td>\n",
       "      <td>673.390365</td>\n",
       "      <td>778.517493</td>\n",
       "      <td>867.191260</td>\n",
       "    </tr>\n",
       "    <tr>\n",
       "      <th>min</th>\n",
       "      <td>1933.000000</td>\n",
       "      <td>21.000000</td>\n",
       "      <td>0.000000</td>\n",
       "      <td>7.000000</td>\n",
       "      <td>0.000000</td>\n",
       "      <td>0.000000</td>\n",
       "      <td>0.000000</td>\n",
       "      <td>0.000000</td>\n",
       "    </tr>\n",
       "    <tr>\n",
       "      <th>25%</th>\n",
       "      <td>1972.000000</td>\n",
       "      <td>99.250000</td>\n",
       "      <td>2.000000</td>\n",
       "      <td>7.000000</td>\n",
       "      <td>308.000000</td>\n",
       "      <td>137.000000</td>\n",
       "      <td>219.000000</td>\n",
       "      <td>318.250000</td>\n",
       "    </tr>\n",
       "    <tr>\n",
       "      <th>50%</th>\n",
       "      <td>1994.000000</td>\n",
       "      <td>127.500000</td>\n",
       "      <td>32.000000</td>\n",
       "      <td>7.000000</td>\n",
       "      <td>671.500000</td>\n",
       "      <td>360.000000</td>\n",
       "      <td>575.000000</td>\n",
       "      <td>808.000000</td>\n",
       "    </tr>\n",
       "    <tr>\n",
       "      <th>75%</th>\n",
       "      <td>2014.750000</td>\n",
       "      <td>148.000000</td>\n",
       "      <td>65.000000</td>\n",
       "      <td>7.000000</td>\n",
       "      <td>1482.500000</td>\n",
       "      <td>1037.000000</td>\n",
       "      <td>1407.250000</td>\n",
       "      <td>1663.250000</td>\n",
       "    </tr>\n",
       "    <tr>\n",
       "      <th>max</th>\n",
       "      <td>2021.000000</td>\n",
       "      <td>321.000000</td>\n",
       "      <td>415.000000</td>\n",
       "      <td>10.000000</td>\n",
       "      <td>2948.000000</td>\n",
       "      <td>2396.000000</td>\n",
       "      <td>2776.000000</td>\n",
       "      <td>3026.000000</td>\n",
       "    </tr>\n",
       "  </tbody>\n",
       "</table>\n",
       "</div>"
      ],
      "text/plain": [
       "              Year     Duration        Genre       Rating     Director  \\\n",
       "count  1602.000000  1602.000000  1602.000000  1602.000000  1602.000000   \n",
       "mean   1991.286517   127.449438    60.493758     7.207865   972.644195   \n",
       "std      23.533987    29.252529    81.458712     0.451094   815.510621   \n",
       "min    1933.000000    21.000000     0.000000     7.000000     0.000000   \n",
       "25%    1972.000000    99.250000     2.000000     7.000000   308.000000   \n",
       "50%    1994.000000   127.500000    32.000000     7.000000   671.500000   \n",
       "75%    2014.750000   148.000000    65.000000     7.000000  1482.500000   \n",
       "max    2021.000000   321.000000   415.000000    10.000000  2948.000000   \n",
       "\n",
       "           Actor 1      Actor 2      Actor 3  \n",
       "count  1602.000000  1602.000000  1602.000000  \n",
       "mean    665.760924   873.154182  1066.728464  \n",
       "std     673.390365   778.517493   867.191260  \n",
       "min       0.000000     0.000000     0.000000  \n",
       "25%     137.000000   219.000000   318.250000  \n",
       "50%     360.000000   575.000000   808.000000  \n",
       "75%    1037.000000  1407.250000  1663.250000  \n",
       "max    2396.000000  2776.000000  3026.000000  "
      ]
     },
     "execution_count": 133,
     "metadata": {},
     "output_type": "execute_result"
    }
   ],
   "source": [
    "high_rating.describe()"
   ]
  },
  {
   "cell_type": "code",
   "execution_count": 134,
   "id": "0e780ff8",
   "metadata": {},
   "outputs": [
    {
     "data": {
      "image/png": "[encoded data removed]",
      "text/plain": [
       "<Figure size 640x480 with 1 Axes>"
      ]
     },
     "metadata": {},
     "output_type": "display_data"
    }
   ],
   "source": [
    "high_rating.Duration.plot.density(color='green' )\n",
    "plt.title('Density plot for for Duration time of high rating films')\n",
    "plt.show()"
   ]
  },
  {
   "cell_type": "code",
   "execution_count": 135,
   "id": "825171a2",
   "metadata": {},
   "outputs": [
    {
     "name": "stdout",
     "output_type": "stream",
     "text": [
      "<class 'pandas.core.frame.DataFrame'>\n",
      "Int64Index: 7558 entries, 1 to 15508\n",
      "Data columns (total 10 columns):\n",
      " #   Column    Non-Null Count  Dtype \n",
      "---  ------    --------------  ----- \n",
      " 0   Name      7558 non-null   object\n",
      " 1   Year      7558 non-null   int32 \n",
      " 2   Duration  7558 non-null   int32 \n",
      " 3   Genre     7558 non-null   int64 \n",
      " 4   Rating    7558 non-null   int32 \n",
      " 5   Votes     7558 non-null   object\n",
      " 6   Director  7558 non-null   int64 \n",
      " 7   Actor 1   7558 non-null   int64 \n",
      " 8   Actor 2   7558 non-null   int64 \n",
      " 9   Actor 3   7558 non-null   int64 \n",
      "dtypes: int32(3), int64(5), object(2)\n",
      "memory usage: 560.9+ KB\n"
     ]
    }
   ],
   "source": [
    "df.info()"
   ]
  },
  {
   "cell_type": "code",
   "execution_count": 136,
   "id": "7cc6a284",
   "metadata": {},
   "outputs": [],
   "source": [
    "from sklearn.model_selection import train_test_split\n",
    "x= df[['Duration','Genre','Director','Actor 1','Actor 2','Actor 3']]\n",
    "y=df.Rating \n",
    "x_train, x_test, y_train, y_test = train_test_split(x, y, test_size=0.3, random_state=42)"
   ]
  },
  {
   "cell_type": "code",
   "execution_count": 137,
   "id": "6d376a76",
   "metadata": {},
   "outputs": [
    {
     "name": "stdout",
     "output_type": "stream",
     "text": [
      "(7558, 6)\n",
      "(7558,)\n"
     ]
    }
   ],
   "source": [
    "print(x.shape)\n",
    "print(y.shape)"
   ]
  },
  {
   "cell_type": "code",
   "execution_count": 138,
   "id": "9b8ba819",
   "metadata": {},
   "outputs": [],
   "source": [
    "from sklearn.ensemble import RandomForestRegressor\n",
    "rfmodel = RandomForestRegressor(n_estimators=100, random_state=42)\n",
    "rfmodel.fit(x_train, y_train)\n",
    "y_pred = rfmodel.predict(x_test)\n"
   ]
  },
  {
   "cell_type": "code",
   "execution_count": 139,
   "id": "6c9486fe",
   "metadata": {},
   "outputs": [
    {
     "name": "stdout",
     "output_type": "stream",
     "text": [
      "Mean Squared Error: 1.8569896825396828\n"
     ]
    }
   ],
   "source": [
    "from sklearn.metrics import mean_squared_error\n",
    "mse = mean_squared_error(y_test, y_pred)\n",
    "print(\"Mean Squared Error:\", mse)"
   ]
  },
  {
   "cell_type": "code",
   "execution_count": 140,
   "id": "b7488d70",
   "metadata": {},
   "outputs": [
    {
     "data": {
      "image/png": "[encoded data removed]",
      "text/plain": [
       "<Figure size 640x480 with 1 Axes>"
      ]
     },
     "metadata": {},
     "output_type": "display_data"
    }
   ],
   "source": [
    "plt.scatter(y_test, y_pred, color='blue')\n",
    "plt.plot([y_test.min(), y_test.max()], [y_test.min(), y_test.max()], color='red', linestyle='--')\n",
    "plt.xlabel('Actual Values')\n",
    "plt.ylabel('Predicted Values')\n",
    "plt.title('Random Forest Regression')\n",
    "plt.show()"
   ]
  },
  {
   "cell_type": "code",
   "execution_count": 141,
   "id": "76c285d2",
   "metadata": {},
   "outputs": [
    {
     "name": "stdout",
     "output_type": "stream",
     "text": [
      "Mean Squared Error: 3.5383597883597884\n"
     ]
    }
   ],
   "source": [
    "from sklearn.tree import DecisionTreeRegressor\n",
    "dt_model = DecisionTreeRegressor(random_state=42)\n",
    "dt_model.fit(x_train, y_train)\n",
    "\n",
    "y_pred = dt_model.predict(x_test)\n",
    "mse = mean_squared_error(y_test, y_pred)\n",
    "print(\"Mean Squared Error:\", mse)"
   ]
  },
  {
   "cell_type": "code",
   "execution_count": 142,
   "id": "fb1f1bb4",
   "metadata": {},
   "outputs": [
    {
     "name": "stdout",
     "output_type": "stream",
     "text": [
      "Mean Squared Error: 1.9615246265486972\n"
     ]
    }
   ],
   "source": [
    "from sklearn.linear_model import LinearRegression\n",
    "lr_model = LinearRegression()\n",
    "lr_model.fit(x_train, y_train)\n",
    "y_pred = lr_model.predict(x_test)\n",
    "mse = mean_squared_error(y_test, y_pred)\n",
    "print(\"Mean Squared Error:\", mse)"
   ]
  },
  {
   "cell_type": "code",
   "execution_count": 143,
   "id": "7141e4d4",
   "metadata": {},
   "outputs": [
    {
     "data": {
      "image/png": "[encoded data removed]",
      "text/plain": [
       "<Figure size 640x480 with 1 Axes>"
      ]
     },
     "metadata": {},
     "output_type": "display_data"
    }
   ],
   "source": [
    "plt.scatter(y_test, y_pred, color='green')\n",
    "plt.plot([y_test.min(), y_test.max()], [y_test.min(), y_test.max()], color='black')\n",
    "plt.xlabel('Actual Values')\n",
    "plt.ylabel('Predicted Values')\n",
    "plt.title('Linear Regression')\n",
    "plt.show()"
   ]
  },
  {
   "cell_type": "code",
   "execution_count": null,
   "id": "bb93bebf",
   "metadata": {},
   "outputs": [],
   "source": []
  }
 ],
 "metadata": {
  "kernelspec": {
   "display_name": "Python 3 (ipykernel)",
   "language": "python",
   "name": "python3"
  },
  "language_info": {
   "codemirror_mode": {
    "name": "ipython",
    "version": 3
   },
   "file_extension": ".py",
   "mimetype": "text/x-python",
   "name": "python",
   "nbconvert_exporter": "python",
   "pygments_lexer": "ipython3",
   "version": "3.10.9"
  }
 },
 "nbformat": 4,
 "nbformat_minor": 5
}
